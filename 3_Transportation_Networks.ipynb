{
 "cells": [
  {
   "cell_type": "code",
   "execution_count": 2,
   "id": "3546d4e8",
   "metadata": {},
   "outputs": [],
   "source": [
    "from preamble import *\n",
    "\n",
    "import pyomo.environ as pyo\n",
    "from pyomo.opt import SolverFactory\n",
    "\n",
    "# optimizers ipopt and coincbc executables downloaded for win64, unzip and add folders to system path variable\n",
    "\n",
    "MAXIMIZE = -1\n",
    "MINIMIZE = 1"
   ]
  },
  {
   "cell_type": "code",
   "execution_count": null,
   "id": "e476f21c",
   "metadata": {},
   "outputs": [],
   "source": []
  }
 ],
 "metadata": {
  "kernelspec": {
   "display_name": "Python 3 (ipykernel)",
   "language": "python",
   "name": "python3"
  },
  "language_info": {
   "codemirror_mode": {
    "name": "ipython",
    "version": 3
   },
   "file_extension": ".py",
   "mimetype": "text/x-python",
   "name": "python",
   "nbconvert_exporter": "python",
   "pygments_lexer": "ipython3",
   "version": "3.9.13"
  }
 },
 "nbformat": 4,
 "nbformat_minor": 5
}
