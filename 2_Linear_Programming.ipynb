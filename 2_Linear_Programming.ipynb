{
 "cells": [
  {
   "cell_type": "code",
   "execution_count": 1,
   "id": "004c34b8",
   "metadata": {},
   "outputs": [],
   "source": [
    "from preamble import *\n",
    "\n",
    "from pyomo.environ import *\n",
    "# optimizers ipopt and coincbc executables downloaded for win64, unzip and add folders to system path variable\n",
    "\n",
    "MAXIMIZE = -1\n",
    "MINIMIZE = 1"
   ]
  },
  {
   "cell_type": "markdown",
   "id": "e52e2be3",
   "metadata": {},
   "source": [
    "# 2. Linear Programming\n",
    "\n",
    "## 2.1. Production Models with Linear Constraints\n",
    "\n",
    "### 2.1.2. Example: Production plan for a single product plant\n",
    "\n",
    "Suppose you are thinking about starting up a business to produce Product X. You have determined there is a market for X of up to 40 units per week at a price of USD 270 each. The production of each unit requires USD 100 of raw materials, 1 hour of type A labor, and 2 hours of type B labor. You have an unlimited amount of raw material available to you, but only 80 hours per week of labor A at a cost of USD 50/hour, and 100 hours per week of labor B at a cost of USD 40 per hour. Ignoring all other expenses, what is the maximum weekly profit?"
   ]
  },
  {
   "cell_type": "code",
   "execution_count": 2,
   "id": "3f264ac8",
   "metadata": {},
   "outputs": [
    {
     "name": "stdout",
     "output_type": "stream",
     "text": [
      "# ==========================================================\n",
      "# = Solver Results                                         =\n",
      "# ==========================================================\n",
      "# ----------------------------------------------------------\n",
      "#   Problem Information\n",
      "# ----------------------------------------------------------\n",
      "Problem: \n",
      "- Name: unknown\n",
      "  Lower bound: 1600.0\n",
      "  Upper bound: 1600.0\n",
      "  Number of objectives: 1\n",
      "  Number of constraints: 0\n",
      "  Number of variables: 0\n",
      "  Number of binary variables: 0\n",
      "  Number of integer variables: 1\n",
      "  Number of nonzeros: 0\n",
      "  Sense: maximize\n",
      "# ----------------------------------------------------------\n",
      "#   Solver Information\n",
      "# ----------------------------------------------------------\n",
      "Solver: \n",
      "- Status: ok\n",
      "  User time: -1.0\n",
      "  System time: 0.0\n",
      "  Wallclock time: 0.0\n",
      "  Termination condition: optimal\n",
      "  Termination message: Model was solved to optimality (subject to tolerances), and an optimal solution is available.\n",
      "  Statistics: \n",
      "    Branch and bound: \n",
      "      Number of bounded subproblems: 0\n",
      "      Number of created subproblems: 0\n",
      "    Black box: \n",
      "      Number of iterations: 0\n",
      "  Error rc: 0\n",
      "  Time: 0.019995689392089844\n",
      "# ----------------------------------------------------------\n",
      "#   Solution Information\n",
      "# ----------------------------------------------------------\n",
      "Solution: \n",
      "- number of solutions: 0\n",
      "  number of solutions displayed: 0\n"
     ]
    }
   ],
   "source": [
    "model = ConcreteModel()\n",
    "\n",
    "# declare decision variables\n",
    "model.x = Var(domain = NonNegativeIntegers)\n",
    "\n",
    "# declare objective\n",
    "model.profit = Objective(\n",
    "    expr = 40*model.x,\n",
    "    sense = MAXIMIZE)\n",
    "\n",
    "# declare constraints\n",
    "model.demand = Constraint(expr = model.x <= 40)\n",
    "model.laborA = Constraint(expr = model.x <= 80)\n",
    "model.laborB = Constraint(expr = model.x <= 100)\n",
    "\n",
    "SolverFactory('cbc').solve(model).write()"
   ]
  },
  {
   "cell_type": "code",
   "execution_count": 3,
   "id": "73dcb368",
   "metadata": {},
   "outputs": [
    {
     "name": "stdout",
     "output_type": "stream",
     "text": [
      "profit : Size=1, Index=None, Active=True\n",
      "    Key  : Active : Value\n",
      "    None :   True : 1600.0\n",
      "x : Size=1, Index=None\n",
      "    Key  : Lower : Value : Upper : Fixed : Stale : Domain\n",
      "    None :     0 :  40.0 :  None : False : False : NonNegativeIntegers\n"
     ]
    }
   ],
   "source": [
    "model.profit.display()\n",
    "model.x.display()"
   ]
  },
  {
   "cell_type": "code",
   "execution_count": 4,
   "id": "c3594b2a",
   "metadata": {},
   "outputs": [
    {
     "name": "stdout",
     "output_type": "stream",
     "text": [
      "Profit = 1600.0 per week\n",
      "X = 40.0 units per week\n"
     ]
    }
   ],
   "source": [
    "print(f\"Profit = {model.profit()} per week\")\n",
    "print(f\"X = {model.x()} units per week\")"
   ]
  },
  {
   "cell_type": "markdown",
   "id": "c0a869d0",
   "metadata": {},
   "source": [
    "### 2.1.3. Production plan: Product Y\n",
    "Your marketing department has developed plans for a new product called Y. The product sells at a price of USD 210/each, and they expect that you can sell all that you can make. It’s also cheaper to make, requiring only USD 90 in raw materials, 1 hour of Labor type A at USD 50 per hour, and 1 hour of Labor B at USD 40 per hour. What is the potential weekly profit?\n",
    "\n",
    "$$\n",
    "\\text{cost} = 90x + 50x + 40x = 180x\\\\\n",
    "\\text{profit} = 210x - 180x = 30x\n",
    "$$"
   ]
  },
  {
   "cell_type": "code",
   "execution_count": 5,
   "id": "459986e7",
   "metadata": {},
   "outputs": [
    {
     "name": "stdout",
     "output_type": "stream",
     "text": [
      "# ==========================================================\n",
      "# = Solver Results                                         =\n",
      "# ==========================================================\n",
      "# ----------------------------------------------------------\n",
      "#   Problem Information\n",
      "# ----------------------------------------------------------\n",
      "Problem: \n",
      "- Name: unknown\n",
      "  Lower bound: 2400.0\n",
      "  Upper bound: 2400.0\n",
      "  Number of objectives: 1\n",
      "  Number of constraints: 0\n",
      "  Number of variables: 0\n",
      "  Number of binary variables: 0\n",
      "  Number of integer variables: 1\n",
      "  Number of nonzeros: 0\n",
      "  Sense: maximize\n",
      "# ----------------------------------------------------------\n",
      "#   Solver Information\n",
      "# ----------------------------------------------------------\n",
      "Solver: \n",
      "- Status: ok\n",
      "  User time: -1.0\n",
      "  System time: 0.01\n",
      "  Wallclock time: 0.0\n",
      "  Termination condition: optimal\n",
      "  Termination message: Model was solved to optimality (subject to tolerances), and an optimal solution is available.\n",
      "  Statistics: \n",
      "    Branch and bound: \n",
      "      Number of bounded subproblems: 0\n",
      "      Number of created subproblems: 0\n",
      "    Black box: \n",
      "      Number of iterations: 0\n",
      "  Error rc: 0\n",
      "  Time: 0.0189974308013916\n",
      "# ----------------------------------------------------------\n",
      "#   Solution Information\n",
      "# ----------------------------------------------------------\n",
      "Solution: \n",
      "- number of solutions: 0\n",
      "  number of solutions displayed: 0\n"
     ]
    }
   ],
   "source": [
    "model = ConcreteModel()\n",
    "\n",
    "# declare decision variables\n",
    "model.y = Var(domain = NonNegativeIntegers)\n",
    "\n",
    "# declare objective\n",
    "model.profit = Objective(\n",
    "    expr = 30*model.y,\n",
    "    sense = MAXIMIZE)\n",
    "\n",
    "# declare constraints\n",
    "model.laborA = Constraint(expr = model.y <= 80)\n",
    "model.laborB = Constraint(expr = model.y <= 100)\n",
    "\n",
    "SolverFactory('cbc').solve(model).write()"
   ]
  },
  {
   "cell_type": "code",
   "execution_count": 6,
   "id": "2cb9cd8d",
   "metadata": {},
   "outputs": [
    {
     "name": "stdout",
     "output_type": "stream",
     "text": [
      "Profit = 2400.0 per week\n",
      "Y = 80.0 units per week\n"
     ]
    }
   ],
   "source": [
    "print(f\"Profit = {model.profit()} per week\")\n",
    "print(f\"Y = {model.y()} units per week\")"
   ]
  },
  {
   "cell_type": "markdown",
   "id": "e95d10fb",
   "metadata": {},
   "source": [
    "### 2.1.4. Production plan: Mixed product strategy\n",
    "So far we have learned that we can make 1,600 per week by manufacturing product X, and 2,400 per week manufacturing product Y. Is it possible to do even better?\n",
    "\n",
    "To answer this question, we consider the possibilty of manufacturing both products in the same plant. The marketing department assures us that product Y will not affect the sales of product X. So the same constraints hold as before, but now we have two decision variables,  and ."
   ]
  },
  {
   "cell_type": "code",
   "execution_count": 7,
   "id": "2cc79a65",
   "metadata": {},
   "outputs": [
    {
     "name": "stdout",
     "output_type": "stream",
     "text": [
      "# ==========================================================\n",
      "# = Solver Results                                         =\n",
      "# ==========================================================\n",
      "# ----------------------------------------------------------\n",
      "#   Problem Information\n",
      "# ----------------------------------------------------------\n",
      "Problem: \n",
      "- Name: unknown\n",
      "  Lower bound: 2600.0\n",
      "  Upper bound: 2600.0\n",
      "  Number of objectives: 1\n",
      "  Number of constraints: 2\n",
      "  Number of variables: 2\n",
      "  Number of binary variables: 0\n",
      "  Number of integer variables: 2\n",
      "  Number of nonzeros: 2\n",
      "  Sense: maximize\n",
      "# ----------------------------------------------------------\n",
      "#   Solver Information\n",
      "# ----------------------------------------------------------\n",
      "Solver: \n",
      "- Status: ok\n",
      "  User time: -1.0\n",
      "  System time: 0.01\n",
      "  Wallclock time: 0.01\n",
      "  Termination condition: optimal\n",
      "  Termination message: Model was solved to optimality (subject to tolerances), and an optimal solution is available.\n",
      "  Statistics: \n",
      "    Branch and bound: \n",
      "      Number of bounded subproblems: 0\n",
      "      Number of created subproblems: 0\n",
      "    Black box: \n",
      "      Number of iterations: 0\n",
      "  Error rc: 0\n",
      "  Time: 0.028998374938964844\n",
      "# ----------------------------------------------------------\n",
      "#   Solution Information\n",
      "# ----------------------------------------------------------\n",
      "Solution: \n",
      "- number of solutions: 0\n",
      "  number of solutions displayed: 0\n"
     ]
    }
   ],
   "source": [
    "model = ConcreteModel()\n",
    "\n",
    "# declare decision variables\n",
    "model.x = Var(domain=NonNegativeIntegers)\n",
    "model.y = Var(domain=NonNegativeIntegers)\n",
    "\n",
    "# declare objective\n",
    "model.profit = Objective(\n",
    "    expr = 40*model.x + 30*model.y,\n",
    "    sense = MAXIMIZE)\n",
    "\n",
    "# declare constraints\n",
    "model.demand = Constraint(expr = model.x <= 40)\n",
    "model.laborA = Constraint(expr = model.x + model.y <= 80)\n",
    "model.laborB = Constraint(expr = 2*model.x + model.y <= 100)\n",
    "\n",
    "# solve\n",
    "SolverFactory('cbc').solve(model).write()"
   ]
  },
  {
   "cell_type": "code",
   "execution_count": 8,
   "id": "a2fc9442",
   "metadata": {},
   "outputs": [
    {
     "name": "stdout",
     "output_type": "stream",
     "text": [
      "Profit = 2600.0\n",
      "Units of X = 20.0\n",
      "Units of Y = 60.0\n"
     ]
    }
   ],
   "source": [
    "# display solution\n",
    "print(f\"Profit = {model.profit()}\")\n",
    "print(f\"Units of X = {model.x()}\")\n",
    "print(f\"Units of Y = {model.y()}\")"
   ]
  },
  {
   "cell_type": "markdown",
   "id": "28f41c8a",
   "metadata": {},
   "source": [
    "### 2.1.5. What are the active constraints?"
   ]
  },
  {
   "cell_type": "code",
   "execution_count": 9,
   "id": "5f3b4e90",
   "metadata": {},
   "outputs": [
    {
     "data": {
      "image/png": "[encoded data removed]",
      "text/plain": [
       "<Figure size 600x600 with 1 Axes>"
      ]
     },
     "metadata": {},
     "output_type": "display_data"
    }
   ],
   "source": [
    "plt.figure(figsize=(6, 6))\n",
    "plt.subplot(111, aspect='equal')\n",
    "plt.axis([0, 100, 0, 100])\n",
    "plt.xlabel('Production Qty X')\n",
    "plt.ylabel('Production Qty Y')\n",
    "\n",
    "# Labor A constraint\n",
    "x = np.array([0, 80])\n",
    "y = 80 - x\n",
    "plt.plot(x, y, 'r', lw=2)\n",
    "plt.fill_between([0, 80, 100], [80, 0,0 ], [100, 100, 100], color='r', alpha=0.15)\n",
    "\n",
    "# Labor B constraint\n",
    "x = np.array([0, 50])\n",
    "y = 100 - 2*x\n",
    "plt.plot(x, y, 'b', lw=2)\n",
    "plt.fill_between([0, 50, 100], [100, 0, 0], [100, 100, 100], color='b', alpha=0.15)\n",
    "\n",
    "# Demand constraint\n",
    "plt.plot([40, 40], [0, 100], 'g', lw=2)\n",
    "plt.fill_between([40, 100], [0, 0], [100, 100], color='g', alpha=0.15)\n",
    "\n",
    "plt.legend(['Labor A Constraint', 'Labor B Constraint', 'Demand Constraint'])\n",
    "\n",
    "# Contours of constant profit\n",
    "x = np.array([0, 100])\n",
    "for p in np.linspace(0, 3600, 10):\n",
    "    y = (p - 40*x)/30\n",
    "    plt.plot(x, y, 'y--')\n",
    "\n",
    "# Optimum\n",
    "plt.plot(20, 60, 'r.', ms=20)\n",
    "plt.annotate('Mixed Product Strategy', xy=(20, 60), xytext=(50, 70), \n",
    "             arrowprops=dict(shrink=.1, width=1, headwidth=5))\n",
    "\n",
    "plt.plot(0, 80, 'b.', ms=20)\n",
    "plt.annotate('Y Only', xy=(0, 80), xytext=(20, 90), \n",
    "             arrowprops=dict(shrink=0.1, width=1, headwidth=5))\n",
    "\n",
    "plt.plot(40, 0, 'b.', ms=20)\n",
    "plt.annotate('X Only', xy=(40, 0), xytext=(70, 20), \n",
    "             arrowprops=dict(shrink=0.1, width=1, headwidth=5))\n",
    "\n",
    "plt.text(4, 23, 'Increasing Profit')\n",
    "_= plt.annotate('', xy=(20,15), xytext=(0,0), \n",
    "             arrowprops=dict(width=0.5,headwidth=5))"
   ]
  },
  {
   "cell_type": "markdown",
   "id": "a316f6a7",
   "metadata": {},
   "source": [
    "## 2.2. Production Model Sensitivity Analysis\n",
    "\n",
    "### 2.2.4. Sensitivity Analysis\n",
    "\n",
    "Sensitivity analysis is the process of determining how the solution to a linear programming problem (or for that matter, any optimization problem) depends on parameter values. This can lead to important insights. In this toy application, for example, sensitivity analysis will reveal the extra profit obtained by adding additional hours of labor. For many applications, the information obtained from sensitivity analysis can be the primary reason to create the linear program.\n",
    "\n",
    "For the general case, assume that the linear program can be written in the form:\n",
    "\n",
    "\\begin{align}\n",
    "P = \\text{max} \\, c^T x\\\\ \\\\\n",
    "\\text{subject to:}\\\\\n",
    "Ax \\le b \\\\\n",
    "x \\ge 0\n",
    "\\end{align}\n",
    "\n",
    "[Source](https://jckantor.github.io/ND-Pyomo-Cookbook/notebooks/02.02-Production-Model-Sensitivity-Analysis.html)"
   ]
  },
  {
   "cell_type": "code",
   "execution_count": 10,
   "id": "21f43b22",
   "metadata": {},
   "outputs": [
    {
     "name": "stdout",
     "output_type": "stream",
     "text": [
      "\n",
      "A = [[ 1  0]\n",
      " [ 1  1]\n",
      " [ 2  1]\n",
      " [-1  0]\n",
      " [ 0 -1]]\n",
      "\n",
      "b = [[ 40]\n",
      " [ 80]\n",
      " [100]\n",
      " [  0]\n",
      " [  0]]\n",
      "\n",
      "c = [40 30]\n",
      "\n",
      "x = [[20.]\n",
      " [60.]]\n",
      "\n",
      "P = [2600.]\n",
      "\n",
      "y = [20. 10.]\n"
     ]
    }
   ],
   "source": [
    "A_augment = np.array([[1, 0], [1, 1], [2, 1], [-1, 0], [0, -1]])\n",
    "b_augment = np.array([[40], [80], [100], [0], [0]])\n",
    "c = np.array([40, 30])\n",
    "\n",
    "print(f\"\\nA = {A_augment}\")\n",
    "print(f\"\\nb = {b_augment}\")\n",
    "print(f\"\\nc = {c}\")\n",
    "\n",
    "active_constraints = [1, 2]\n",
    "\n",
    "A_active = A_augment[active_constraints, :]\n",
    "b_active = b_augment[active_constraints, :]\n",
    "\n",
    "x = np.dot(np.linalg.inv(A_active), b_active)\n",
    "print(f\"\\nx = {x}\")\n",
    "\n",
    "P = np.dot(c, x)\n",
    "print(f\"\\nP = {P}\")\n",
    "\n",
    "y = np.dot(c, np.linalg.inv(A_active))\n",
    "print(f\"\\ny = {y}\")"
   ]
  },
  {
   "cell_type": "code",
   "execution_count": 11,
   "id": "72452dd7",
   "metadata": {},
   "outputs": [
    {
     "data": {
      "text/plain": [
       "array([20., 10.])"
      ]
     },
     "execution_count": 11,
     "metadata": {},
     "output_type": "execute_result"
    }
   ],
   "source": [
    "# Adjoint Sensitivity\n",
    "np.linalg.solve(A_active.T, c)"
   ]
  },
  {
   "cell_type": "markdown",
   "id": "cf5be960",
   "metadata": {},
   "source": [
    "### 2.2.6 Accesing sensitivity coefficients in Pyomo"
   ]
  },
  {
   "cell_type": "code",
   "execution_count": 12,
   "id": "9217f167",
   "metadata": {},
   "outputs": [
    {
     "name": "stdout",
     "output_type": "stream",
     "text": [
      "\n",
      "Solution\n",
      "x = 20.0\n",
      "y = 60.0\n",
      "\n",
      "Sensitivity Analysis\n",
      "y_demand = 0.0\n",
      "y_laborA = 0.0\n",
      "y_laborB = 0.0\n"
     ]
    }
   ],
   "source": [
    "model = ConcreteModel()\n",
    "\n",
    "# for access to dual solution for constraints\n",
    "model.dual = Suffix(direction=Suffix.IMPORT)\n",
    "\n",
    "# declare decision variables\n",
    "model.x = Var(domain=NonNegativeIntegers)\n",
    "model.y = Var(domain=NonNegativeIntegers)\n",
    "\n",
    "# declare objective\n",
    "model.profit = Objective(\n",
    "    expr = 40*model.x + 30*model.y,\n",
    "    sense = maximize)\n",
    "\n",
    "# declare constraints\n",
    "model.demand = Constraint(expr = model.x <= 40)\n",
    "model.laborA = Constraint(expr = model.x + model.y <= 80)\n",
    "model.laborB = Constraint(expr = 2*model.x + model.y <= 100)\n",
    "\n",
    "# solve\n",
    "SolverFactory('cbc').solve(model)\n",
    "\n",
    "print(\"\\nSolution\")\n",
    "print(f\"x = {model.x()}\")\n",
    "print(f\"y = {model.y()}\")\n",
    "\n",
    "print(\"\\nSensitivity Analysis\")\n",
    "print(f\"y_demand = {-model.dual[model.demand]}\")\n",
    "print(f\"y_laborA = {-model.dual[model.laborA]}\")\n",
    "print(f\"y_laborB = {-model.dual[model.laborB]}\")"
   ]
  },
  {
   "cell_type": "code",
   "execution_count": 13,
   "id": "f2067308",
   "metadata": {},
   "outputs": [
    {
     "name": "stdout",
     "output_type": "stream",
     "text": [
      "Constraint  value  lslack  uslack    dual\n",
      "demand      20.00     inf   20.00   -0.00\n",
      "laborA      80.00     inf    0.00   -0.00\n",
      "laborB     100.00     inf    0.00   -0.00\n"
     ]
    }
   ],
   "source": [
    "str = \"   {0:7.2f} {1:7.2f} {2:7.2f} {3:7.2f}\"\n",
    "\n",
    "print(\"Constraint  value  lslack  uslack    dual\")\n",
    "for c in [model.demand, model.laborA, model.laborB]:\n",
    "    print(c, str.format(c(), c.lslack(), c.uslack(), model.dual[c]))"
   ]
  },
  {
   "cell_type": "markdown",
   "id": "717095a8",
   "metadata": {},
   "source": [
    "### 2.2.7. Theory of constraints\n",
    "- For decisions you should expect to find $n$ ‘active’ constraints.\n",
    "- Each inactive constraint has an associated ‘slack.’ The associated resources have no incremental value.\n",
    "- Each active constraint has an associated ‘shadow price’. This is additional value of additional resources."
   ]
  },
  {
   "cell_type": "markdown",
   "id": "168f5f9a",
   "metadata": {},
   "source": [
    "## 2.3 Linear Blending Problem\n",
    "\n",
    "### 2.3.2. Problem Statement\n",
    "A brewery receives an order for 100 gallons of 4% ABV (alchohol by volume) beer. The brewery has on hand beer A that is 4.5% ABV that cost USD 0.32 per gallon to make, and beer B that is 3.7% ABV and cost USD 0.25 per gallon. Water could also be used as a blending agent at a cost of USD 0.05 per gallon. Find the minimum cost blend that meets the customer requirements.\n",
    "\n",
    "### 2.3.3. Representing Problem Data as a Python Dictionary\n",
    "We will use this problem as an opportunity to write a Python function that accepts data on raw materials and customer specifications to produce the lowest cost blend.\n",
    "\n",
    "The first step is to represent the problem data in a generic manner that could, if needed, be extended to include additional blending components. Here we use a dictionary of materials, each key denoting a blending agent. For each key there is a sub-dictionary containing attributes of each blending component."
   ]
  },
  {
   "cell_type": "code",
   "execution_count": 14,
   "id": "1addacdf",
   "metadata": {},
   "outputs": [],
   "source": [
    "data = {\n",
    "    'A': {'abv': 0.047, 'cost': 0.32},\n",
    "    'B': {'abv': 0.037, 'cost': 0.25},\n",
    "    'W': {'abv': 0.0, 'cost': 0.05},\n",
    "    }"
   ]
  },
  {
   "cell_type": "code",
   "execution_count": 15,
   "id": "78abae50",
   "metadata": {},
   "outputs": [
    {
     "name": "stdout",
     "output_type": "stream",
     "text": [
      "Optimal Blend\n",
      "   A : 30.0 gallons\n",
      "   B : 70.0 gallons\n",
      "   W : 0.0 gallons\n",
      "\n",
      "Volume =  100.0 gallons\n",
      "Cost = $ 27.1\n"
     ]
    }
   ],
   "source": [
    "vol = 100.\n",
    "abv = 0.04\n",
    "\n",
    "def beer_blend(vol, abv, data):\n",
    "    C = data.keys()\n",
    "    model = ConcreteModel()\n",
    "    model.x = Var(C, domain=NonNegativeReals)\n",
    "    model.cost = Objective(expr = sum(model.x[c]*data[c]['cost'] for c in C))\n",
    "    model.vol = Constraint(expr = vol == sum(model.x[c] for c in C))\n",
    "    model.abv = Constraint(expr = 0 == sum(model.x[c]*(data[c]['abv'] - abv) for c in C))\n",
    "\n",
    "    solver = SolverFactory('cbc')\n",
    "    solver.solve(model)\n",
    "\n",
    "    print('Optimal Blend')\n",
    "    for c in data.keys():\n",
    "        print('  ', c, ':', model.x[c](), 'gallons')\n",
    "    print()\n",
    "    print('Volume = ', model.vol(), 'gallons')\n",
    "    print('Cost = $', model.cost())\n",
    "    \n",
    "beer_blend(vol, abv, data)"
   ]
  },
  {
   "cell_type": "code",
   "execution_count": null,
   "id": "62181372",
   "metadata": {},
   "outputs": [],
   "source": []
  }
 ],
 "metadata": {
  "kernelspec": {
   "display_name": "Python 3 (ipykernel)",
   "language": "python",
   "name": "python3"
  },
  "language_info": {
   "codemirror_mode": {
    "name": "ipython",
    "version": 3
   },
   "file_extension": ".py",
   "mimetype": "text/x-python",
   "name": "python",
   "nbconvert_exporter": "python",
   "pygments_lexer": "ipython3",
   "version": "3.9.13"
  }
 },
 "nbformat": 4,
 "nbformat_minor": 5
}
